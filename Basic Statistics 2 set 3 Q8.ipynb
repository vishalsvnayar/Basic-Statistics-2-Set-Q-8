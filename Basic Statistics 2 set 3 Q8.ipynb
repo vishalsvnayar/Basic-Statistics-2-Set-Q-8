{
 "cells": [
  {
   "cell_type": "markdown",
   "id": "ffb6c2ce",
   "metadata": {},
   "source": [
    "**Q8**.\tHow many randomly selected employers (minimum number) must we contact in order to guarantee a margin of error of no more than 4% (at 95% confidence)?\n",
    "\n",
    "A.`600`\n",
    "\n",
    "B.400\n",
    "\n",
    "C.550\n",
    "\n",
    "D.1000\n",
    "\n",
    "\n",
    "\n",
    "We want to construct a 95% confidence interval for with a margin of error equal to 4%.\n",
    "\n",
    "Because there is no estimate of the proportion given, we use for a conservative estimate.\n",
    "\n",
    "where,\n",
    "M is the margin of error\n",
    "\n",
    "p is an estimated value of the proportion\n",
    "\n",
    "For a 95% confidence interval, z=1.960,p=0.50\n",
    "\n",
    "\n",
    "n=(1.960/0.04)^2*0.5*(1-0.5)=600.25\n",
    "\n",
    "\n",
    "\n",
    "This is the minimum sample size, therefore we should round up to 600 In order to construct a 95% confidence interval with a margin of error of 4%, we should obtain a sample of at least n=600\n",
    "\n",
    "\n",
    "\n"
   ]
  },
  {
   "cell_type": "code",
   "execution_count": null,
   "id": "d6f41939",
   "metadata": {},
   "outputs": [],
   "source": []
  }
 ],
 "metadata": {
  "kernelspec": {
   "display_name": "Python 3 (ipykernel)",
   "language": "python",
   "name": "python3"
  },
  "language_info": {
   "codemirror_mode": {
    "name": "ipython",
    "version": 3
   },
   "file_extension": ".py",
   "mimetype": "text/x-python",
   "name": "python",
   "nbconvert_exporter": "python",
   "pygments_lexer": "ipython3",
   "version": "3.9.7"
  }
 },
 "nbformat": 4,
 "nbformat_minor": 5
}
